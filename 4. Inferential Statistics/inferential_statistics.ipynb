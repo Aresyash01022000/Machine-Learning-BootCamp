{
 "cells": [
  {
   "cell_type": "code",
   "execution_count": 1,
   "metadata": {},
   "outputs": [],
   "source": [
    "import scipy.stats as stats\n",
    "import pandas as pd"
   ]
  },
  {
   "cell_type": "code",
   "execution_count": 2,
   "metadata": {},
   "outputs": [
    {
     "name": "stdout",
     "output_type": "stream",
     "text": [
      "    IDNO.  WEIGHT COLOR CLARRITY RATER  PRICE\n",
      "0       1    0.31     D      VS1   GIA   1641\n",
      "1       2    0.31     I      VS1   GIA   1126\n",
      "2       3    0.34     E      VS1   GIA   1693\n",
      "3       4    0.34     H      VS2   GIA   1222\n",
      "4       5    0.36     F      VS1   GIA   1635\n",
      "5       6    0.40     H      VS1   GIA   1525\n",
      "6       7    0.48     G     VVS2   GIA   2532\n",
      "7       8    0.50     G      VS1   GIA   3016\n",
      "8       9    0.52     F     VVS2   GIA   3635\n",
      "9      10    0.53     G     VVS2   GIA   3407\n",
      "10     11    0.55     G     VVS2   GIA   3529\n",
      "11     12    0.60     F      VS1   GIA   4291\n",
      "12     13    0.70     F      VS1   GIA   5510\n",
      "13     14    0.72     F      VS1   GIA   5586\n",
      "14     15    0.82     I      VS2   GIA   4948\n",
      "15     16    0.90     I     VVS2   GIA   6682\n",
      "16     17    0.56     E      VS1   GIA   3900\n",
      "17     18    0.70     F     VVS1   GIA   6825\n",
      "18     19    0.71     D      VS1   GIA   6372\n",
      "19     20    0.73     E      VS2   GIA   5738\n"
     ]
    }
   ],
   "source": [
    "diamond = pd.read_excel('inferential_statistics.xlsx',sheet_name ='Sheet1')\n",
    "print(diamond)"
   ]
  },
  {
   "cell_type": "code",
   "execution_count": 3,
   "metadata": {},
   "outputs": [
    {
     "data": {
      "text/plain": [
       "0.5539999999999999"
      ]
     },
     "execution_count": 3,
     "metadata": {},
     "output_type": "execute_result"
    }
   ],
   "source": [
    "#take mean of the required variable\n",
    "diamond['WEIGHT'].mean()"
   ]
  },
  {
   "cell_type": "code",
   "execution_count": 4,
   "metadata": {},
   "outputs": [
    {
     "data": {
      "text/plain": [
       "Ttest_1sampResult(statistic=1.358653216241876, pvalue=0.19016924006729957)"
      ]
     },
     "execution_count": 4,
     "metadata": {},
     "output_type": "execute_result"
    }
   ],
   "source": [
    "#performing one-sample t-test the significance value is 0.05\n",
    "stats.ttest_1samp(diamond['WEIGHT'],0.5)#0.5 is the average weight\n",
    "#since the p-value is greater then the significance value we accept the null hypothesis"
   ]
  },
  {
   "cell_type": "code",
   "execution_count": 5,
   "metadata": {},
   "outputs": [
    {
     "name": "stdout",
     "output_type": "stream",
     "text": [
      "    patid  age  gender\n",
      "0       1   45    Male\n",
      "1       2   56    Male\n",
      "2       3   50    Male\n",
      "3       4   46  Female\n",
      "4       5   64    Male\n",
      "5       6   49  Female\n",
      "6       7   63    Male\n",
      "7       8   63  Female\n",
      "8       9   52    Male\n",
      "9      10   45    Male\n",
      "10     11   61  Female\n",
      "11     12   49  Female\n",
      "12     13   61  Female\n",
      "13     14   59    Male\n",
      "14     15   52    Male\n",
      "15     16   60  Female\n"
     ]
    }
   ],
   "source": [
    "age = pd.read_excel('inferential_statistics.xlsx',sheet_name='Sheet2')\n",
    "print(age)"
   ]
  },
  {
   "cell_type": "code",
   "execution_count": 6,
   "metadata": {},
   "outputs": [
    {
     "name": "stdout",
     "output_type": "stream",
     "text": [
      "3     46\n",
      "5     49\n",
      "7     63\n",
      "10    61\n",
      "11    49\n",
      "12    61\n",
      "15    60\n",
      "Name: age, dtype: int64\n",
      "0     45\n",
      "1     56\n",
      "2     50\n",
      "4     64\n",
      "6     63\n",
      "8     52\n",
      "9     45\n",
      "13    59\n",
      "14    52\n",
      "Name: age, dtype: int64\n"
     ]
    }
   ],
   "source": [
    "# seperating the f groups by age\n",
    "f_age = age[age['gender']== 'Female']['age']\n",
    "print(f_age)\n",
    "m_age = age[age['gender'] == 'Male']['age']\n",
    "print(m_age)"
   ]
  },
  {
   "cell_type": "code",
   "execution_count": 7,
   "metadata": {},
   "outputs": [
    {
     "name": "stdout",
     "output_type": "stream",
     "text": [
      "55.57142857142857\n",
      "54.0\n"
     ]
    }
   ],
   "source": [
    "print(f_age.mean())\n",
    "print(m_age.mean())"
   ]
  },
  {
   "cell_type": "code",
   "execution_count": 8,
   "metadata": {},
   "outputs": [
    {
     "data": {
      "text/plain": [
       "Ttest_indResult(statistic=0.43857105472706254, pvalue=0.6676644357450686)"
      ]
     },
     "execution_count": 8,
     "metadata": {},
     "output_type": "execute_result"
    }
   ],
   "source": [
    "# running independent t-test\n",
    "\n",
    "stats.ttest_ind(a = f_age, b = m_age, equal_var = True)"
   ]
  },
  {
   "cell_type": "code",
   "execution_count": 9,
   "metadata": {},
   "outputs": [
    {
     "name": "stdout",
     "output_type": "stream",
     "text": [
      "    Student  Test A  Test B\n",
      "0         1       9      17\n",
      "1         2      10      24\n",
      "2         3      12      17\n",
      "3         4      16      19\n",
      "4         5      16      15\n",
      "5         6      17      16\n",
      "6         7       9      15\n",
      "7         8       9      25\n",
      "8         9      13      15\n",
      "9        10      13      25\n",
      "10       11      15      21\n",
      "11       12      14      21\n",
      "12       13       9      16\n",
      "13       14      11      25\n",
      "14       15      12      25\n",
      "15       16      14      19\n",
      "16       17      12      24\n",
      "17       18      15      20\n",
      "18       19      11      22\n",
      "19       20      13      24\n"
     ]
    }
   ],
   "source": [
    "score = pd.read_excel('inferential_statistics.xlsx',sheet_name='Sheet3')\n",
    "print(score)"
   ]
  },
  {
   "cell_type": "code",
   "execution_count": 10,
   "metadata": {},
   "outputs": [],
   "source": [
    "before = score['Test A']\n",
    "after = score['Test B']"
   ]
  },
  {
   "cell_type": "code",
   "execution_count": 11,
   "metadata": {},
   "outputs": [
    {
     "name": "stdout",
     "output_type": "stream",
     "text": [
      "0.000\n"
     ]
    }
   ],
   "source": [
    "# performing paried t-test\n",
    "stat,pval = stats.ttest_rel(a = before, b= after)\n",
    "print('%0.3f'%pval)#pval<SV therfore null hypothesis is rejected"
   ]
  },
  {
   "cell_type": "code",
   "execution_count": 12,
   "metadata": {},
   "outputs": [],
   "source": [
    "import matplotlib\n",
    "%matplotlib inline"
   ]
  },
  {
   "cell_type": "code",
   "execution_count": 13,
   "metadata": {},
   "outputs": [
    {
     "data": {
      "image/png": "[encoded data removed]",
      "text/plain": [
       "<Figure size 504x504 with 1 Axes>"
      ]
     },
     "metadata": {
      "needs_background": "light"
     },
     "output_type": "display_data"
    }
   ],
   "source": [
    "# We are using the same diamond dataset we used in the first test\n",
    "Scatterplot = diamond.plot(kind = 'scatter', x= 'WEIGHT', y='PRICE', figsize=(7,7), title='Scatter Plot - Correlation', fontsize= 12)"
   ]
  },
  {
   "cell_type": "code",
   "execution_count": 14,
   "metadata": {},
   "outputs": [
    {
     "data": {
      "text/plain": [
       "0.9457713913032358"
      ]
     },
     "execution_count": 14,
     "metadata": {},
     "output_type": "execute_result"
    }
   ],
   "source": [
    "diamond['WEIGHT'].corr(diamond['PRICE'])"
   ]
  },
  {
   "cell_type": "code",
   "execution_count": 15,
   "metadata": {},
   "outputs": [
    {
     "data": {
      "text/html": [
       "<div>\n",
       "<style scoped>\n",
       "    .dataframe tbody tr th:only-of-type {\n",
       "        vertical-align: middle;\n",
       "    }\n",
       "\n",
       "    .dataframe tbody tr th {\n",
       "        vertical-align: top;\n",
       "    }\n",
       "\n",
       "    .dataframe thead th {\n",
       "        text-align: right;\n",
       "    }\n",
       "</style>\n",
       "<table border=\"1\" class=\"dataframe\">\n",
       "  <thead>\n",
       "    <tr style=\"text-align: right;\">\n",
       "      <th></th>\n",
       "      <th>IDNO.</th>\n",
       "      <th>WEIGHT</th>\n",
       "      <th>PRICE</th>\n",
       "    </tr>\n",
       "  </thead>\n",
       "  <tbody>\n",
       "    <tr>\n",
       "      <th>IDNO.</th>\n",
       "      <td>1.000000</td>\n",
       "      <td>0.928115</td>\n",
       "      <td>0.921805</td>\n",
       "    </tr>\n",
       "    <tr>\n",
       "      <th>WEIGHT</th>\n",
       "      <td>0.928115</td>\n",
       "      <td>1.000000</td>\n",
       "      <td>0.925104</td>\n",
       "    </tr>\n",
       "    <tr>\n",
       "      <th>PRICE</th>\n",
       "      <td>0.921805</td>\n",
       "      <td>0.925104</td>\n",
       "      <td>1.000000</td>\n",
       "    </tr>\n",
       "  </tbody>\n",
       "</table>\n",
       "</div>"
      ],
      "text/plain": [
       "           IDNO.    WEIGHT     PRICE\n",
       "IDNO.   1.000000  0.928115  0.921805\n",
       "WEIGHT  0.928115  1.000000  0.925104\n",
       "PRICE   0.921805  0.925104  1.000000"
      ]
     },
     "execution_count": 15,
     "metadata": {},
     "output_type": "execute_result"
    }
   ],
   "source": [
    "diamond.corr(method = 'spearman')# can also use pearson"
   ]
  },
  {
   "cell_type": "code",
   "execution_count": 16,
   "metadata": {},
   "outputs": [
    {
     "name": "stdout",
     "output_type": "stream",
     "text": [
      "    ID Gender Smoke\n",
      "0    1      M   yes\n",
      "1    2      M   yes\n",
      "2    3      F    no\n",
      "3    4      F    no\n",
      "4    5      F   yes\n",
      "5    6      F    no\n",
      "6    7      F    no\n",
      "7    8      M   yes\n",
      "8    9      M    no\n",
      "9   10      F   yes\n",
      "10  11      M    no\n",
      "11  12      F    no\n",
      "12  13      M   yes\n",
      "13  14      M   yes\n",
      "14  15      F    no\n",
      "15  16      F   yes\n",
      "16  17      M   yes\n",
      "17  18      F   yes\n",
      "18  19      M    no\n"
     ]
    }
   ],
   "source": [
    "smoke = pd.read_excel('inferential_statistics.xlsx',sheet_name='Sheet4')\n",
    "print(smoke)"
   ]
  },
  {
   "cell_type": "code",
   "execution_count": 17,
   "metadata": {},
   "outputs": [
    {
     "data": {
      "text/html": [
       "<div>\n",
       "<style scoped>\n",
       "    .dataframe tbody tr th:only-of-type {\n",
       "        vertical-align: middle;\n",
       "    }\n",
       "\n",
       "    .dataframe tbody tr th {\n",
       "        vertical-align: top;\n",
       "    }\n",
       "\n",
       "    .dataframe thead th {\n",
       "        text-align: right;\n",
       "    }\n",
       "</style>\n",
       "<table border=\"1\" class=\"dataframe\">\n",
       "  <thead>\n",
       "    <tr style=\"text-align: right;\">\n",
       "      <th>Smoke</th>\n",
       "      <th>no</th>\n",
       "      <th>yes</th>\n",
       "    </tr>\n",
       "    <tr>\n",
       "      <th>Gender</th>\n",
       "      <th></th>\n",
       "      <th></th>\n",
       "    </tr>\n",
       "  </thead>\n",
       "  <tbody>\n",
       "    <tr>\n",
       "      <th>F</th>\n",
       "      <td>6</td>\n",
       "      <td>4</td>\n",
       "    </tr>\n",
       "    <tr>\n",
       "      <th>M</th>\n",
       "      <td>3</td>\n",
       "      <td>6</td>\n",
       "    </tr>\n",
       "  </tbody>\n",
       "</table>\n",
       "</div>"
      ],
      "text/plain": [
       "Smoke   no  yes\n",
       "Gender         \n",
       "F        6    4\n",
       "M        3    6"
      ]
     },
     "execution_count": 17,
     "metadata": {},
     "output_type": "execute_result"
    }
   ],
   "source": [
    "# created a frequency table using the panda library\n",
    "smoke_table = pd.crosstab(index = smoke[\"Gender\"], columns = smoke[\"Smoke\"])\n",
    "smoke_table"
   ]
  },
  {
   "cell_type": "code",
   "execution_count": 18,
   "metadata": {},
   "outputs": [
    {
     "name": "stdout",
     "output_type": "stream",
     "text": [
      "Test Statistics: 0.4931790123456795\n",
      "p-value: 0.4825126366316421\n",
      "Degree of Freedom: 1\n",
      "\n",
      "[[4.73684211 5.26315789]\n",
      " [4.26315789 4.73684211]]\n"
     ]
    }
   ],
   "source": [
    "chi2, p, ddof, expected = stats.chi2_contingency(smoke_table)\n",
    "msg = \"Test Statistics: {}\\np-value: {}\\nDegree of Freedom: {}\\n\"\n",
    "print(msg.format(chi2, p, ddof))\n",
    "print(expected)"
   ]
  }
 ],
 "metadata": {
  "kernelspec": {
   "display_name": "Python 3",
   "language": "python",
   "name": "python3"
  },
  "language_info": {
   "codemirror_mode": {
    "name": "ipython",
    "version": 3
   },
   "file_extension": ".py",
   "mimetype": "text/x-python",
   "name": "python",
   "nbconvert_exporter": "python",
   "pygments_lexer": "ipython3",
   "version": "3.8.1"
  },
  "varInspector": {
   "cols": {
    "lenName": 16,
    "lenType": 16,
    "lenVar": 40
   },
   "kernels_config": {
    "python": {
     "delete_cmd_postfix": "",
     "delete_cmd_prefix": "del ",
     "library": "var_list.py",
     "varRefreshCmd": "print(var_dic_list())"
    },
    "r": {
     "delete_cmd_postfix": ") ",
     "delete_cmd_prefix": "rm(",
     "library": "var_list.r",
     "varRefreshCmd": "cat(var_dic_list()) "
    }
   },
   "types_to_exclude": [
    "module",
    "function",
    "builtin_function_or_method",
    "instance",
    "_Feature"
   ],
   "window_display": false
  }
 },
 "nbformat": 4,
 "nbformat_minor": 4
}
